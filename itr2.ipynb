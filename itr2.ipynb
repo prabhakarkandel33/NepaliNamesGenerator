{
 "cells": [
  {
   "cell_type": "code",
   "execution_count": 28,
   "id": "cf2257c0-6c6c-445e-bcd5-365703c2ab40",
   "metadata": {},
   "outputs": [],
   "source": [
    "import torch\n",
    "import torch.nn.functional as F\n",
    "import matplotlib.pyplot as plt\n",
    "%matplotlib inline"
   ]
  },
  {
   "cell_type": "code",
   "execution_count": 30,
   "id": "1c030ddd-4039-474b-8421-0423318783fa",
   "metadata": {},
   "outputs": [],
   "source": [
    "words = open('names.txt','r').read().splitlines()"
   ]
  },
  {
   "cell_type": "code",
   "execution_count": 32,
   "id": "51a0c1d1-44bb-4426-8016-78ae5274e6fb",
   "metadata": {},
   "outputs": [
    {
     "data": {
      "text/plain": [
       "['gineez',\n",
       " 'suhrita',\n",
       " 'akhalesh',\n",
       " 'miksen',\n",
       " 'rashamkumar',\n",
       " 'eak',\n",
       " 'khushboo',\n",
       " 'kukee',\n",
       " 'punyadip',\n",
       " 'kharel']"
      ]
     },
     "execution_count": 32,
     "metadata": {},
     "output_type": "execute_result"
    }
   ],
   "source": [
    "words[:10]"
   ]
  },
  {
   "cell_type": "code",
   "execution_count": 34,
   "id": "90525fc7-0efb-489d-af19-6e3b5519f4ec",
   "metadata": {},
   "outputs": [],
   "source": [
    "#removing . ( ) -\n",
    "words = [w.replace('.', '').replace(',', '').replace('(', '').replace(')', '').replace('-', '') for w in words]\n"
   ]
  },
  {
   "cell_type": "code",
   "execution_count": null,
   "id": "a412e88f-0b66-4ea6-a594-6bfdafbd85bd",
   "metadata": {},
   "outputs": [],
   "source": []
  },
  {
   "cell_type": "code",
   "execution_count": 43,
   "id": "aa1614db-8e7d-45d3-abe5-a1838c83289d",
   "metadata": {},
   "outputs": [],
   "source": [
    "#creating lookup tables for characters\\\n",
    "chars = sorted(list(set(''.join(words))))\n",
    "\n",
    "#words to encoding\n",
    "stoi = {s:i+1 for i,s in enumerate(chars)}\n",
    "stoi['.'] = 0\n",
    "# print(stoi)\n",
    "\n",
    "#encoding to words\n",
    "itos = {i:s for s,i in stoi.items()}\n",
    "# print(itos)\n",
    "\n",
    "\n",
    "\n",
    "\n",
    "\n"
   ]
  },
  {
   "cell_type": "code",
   "execution_count": 174,
   "id": "5c460b4b-12f8-4241-8c17-18cf69012cf8",
   "metadata": {},
   "outputs": [],
   "source": [
    "#creating examples to train \n",
    "\n",
    "block_size = 3 #context length: how many input to take to predict next one\n",
    "X,Y = [], []\n",
    "for w in words:\n",
    "    # print(w)\n",
    "    context = [0] * block_size\n",
    "    for ch in w + '.':\n",
    "        ix = stoi[ch]\n",
    "        X.append(context)\n",
    "        Y.append(ix)\n",
    "        # print(''.join(itos[i] for i in context),'-----',itos[ix])\n",
    "        context = context[1:] + [ix]\n",
    "\n",
    "X = torch.tensor(X)\n",
    "Y = torch.tensor(Y)"
   ]
  },
  {
   "cell_type": "code",
   "execution_count": 342,
   "id": "78f44d04-008f-4f6b-ae4e-c16d66484375",
   "metadata": {},
   "outputs": [],
   "source": [
    "#dataset but for splits\n",
    "\n",
    "def build_dataset(words):\n",
    "    block_size = 3 #context length: how many input to take to predict next one\n",
    "    X,Y = [], []\n",
    "    for w in words:\n",
    "        # print(w)\n",
    "        context = [0] * block_size\n",
    "        for ch in w + '.':\n",
    "            ix = stoi[ch]\n",
    "            X.append(context)\n",
    "            Y.append(ix)\n",
    "            # print(''.join(itos[i] for i in context),'-----',itos[ix])\n",
    "            context = context[1:] + [ix]\n",
    "    \n",
    "    X = torch.tensor(X)\n",
    "    Y = torch.tensor(Y)\n",
    "    return X,Y\n",
    "\n",
    "import random\n",
    "random.seed(42)\n",
    "random.shuffle(words)\n",
    "n1 = int(0.8*len(words))\n",
    "n2 = int(0.9*len(words))\n",
    "\n",
    "Xtr,Ytr = build_dataset(words[:n1])\n",
    "Xdev,Ydev = build_dataset(words[n1:n2])\n",
    "Xte,Yte = build_dataset(words[n2:])\n",
    "        \n",
    "\n",
    "\n",
    "\n",
    "\n",
    "\n"
   ]
  },
  {
   "cell_type": "code",
   "execution_count": 176,
   "id": "1aaf44e5-5333-4260-abe8-755ec6407d0d",
   "metadata": {},
   "outputs": [],
   "source": [
    "#creating embeddings - mapping to 2 dimensions the characters\n",
    "C = torch.randn((27,2))\n"
   ]
  },
  {
   "cell_type": "code",
   "execution_count": 178,
   "id": "16b08ed7-5b8d-4673-834c-446506eae1a8",
   "metadata": {},
   "outputs": [
    {
     "data": {
      "text/plain": [
       "torch.Size([59706, 3, 2])"
      ]
     },
     "execution_count": 178,
     "metadata": {},
     "output_type": "execute_result"
    }
   ],
   "source": [
    "C[X].shape"
   ]
  },
  {
   "cell_type": "code",
   "execution_count": 180,
   "id": "7ffd09cd-d9cb-4603-921c-8562994eef77",
   "metadata": {},
   "outputs": [
    {
     "data": {
      "text/plain": [
       "torch.Size([59706, 3, 2])"
      ]
     },
     "execution_count": 180,
     "metadata": {},
     "output_type": "execute_result"
    }
   ],
   "source": [
    "emb = C[X]\n",
    "emb.shape"
   ]
  },
  {
   "cell_type": "code",
   "execution_count": 182,
   "id": "bd7b42f0-66f8-45d3-b057-bc93340a129f",
   "metadata": {},
   "outputs": [],
   "source": [
    "W1 = torch.randn((6,100))\n",
    "b1 = torch.randn(100)\n"
   ]
  },
  {
   "cell_type": "code",
   "execution_count": 184,
   "id": "2d629da3-a832-4906-8597-84e31d50d29f",
   "metadata": {},
   "outputs": [],
   "source": [
    "h = torch.tanh(emb.view(-1,6) @ W1 + b1)"
   ]
  },
  {
   "cell_type": "code",
   "execution_count": 186,
   "id": "e36377ec-48f3-4327-bf62-35fbdc2cdaa0",
   "metadata": {},
   "outputs": [
    {
     "data": {
      "text/plain": [
       "torch.Size([59706, 100])"
      ]
     },
     "execution_count": 186,
     "metadata": {},
     "output_type": "execute_result"
    }
   ],
   "source": [
    "h.shape"
   ]
  },
  {
   "cell_type": "code",
   "execution_count": 188,
   "id": "5ee9a8f9-e95a-442e-9683-fa6b44894eed",
   "metadata": {},
   "outputs": [],
   "source": [
    "W2 = torch.randn((100,27))\n",
    "b2 = torch.randn(27)"
   ]
  },
  {
   "cell_type": "code",
   "execution_count": 190,
   "id": "ae37df78-bfcc-4c6b-834e-52f8ccfe1f34",
   "metadata": {},
   "outputs": [],
   "source": [
    "logits = h @ W2 + b2"
   ]
  },
  {
   "cell_type": "code",
   "execution_count": 192,
   "id": "fb6d41ff-63a7-4720-a118-414bbca82e67",
   "metadata": {},
   "outputs": [
    {
     "data": {
      "text/plain": [
       "torch.Size([59706, 27])"
      ]
     },
     "execution_count": 192,
     "metadata": {},
     "output_type": "execute_result"
    }
   ],
   "source": [
    "logits.shape"
   ]
  },
  {
   "cell_type": "code",
   "execution_count": 194,
   "id": "18f9fc7d-30b6-4fc3-af5d-1331afc4eceb",
   "metadata": {},
   "outputs": [],
   "source": [
    "counts = logits.exp()\n",
    "probs = counts/counts.sum(1,keepdims=True)"
   ]
  },
  {
   "cell_type": "code",
   "execution_count": 196,
   "id": "bbbf3e8d-a862-4179-9b6e-3f9a328027ff",
   "metadata": {},
   "outputs": [
    {
     "data": {
      "text/plain": [
       "torch.Size([59706, 27])"
      ]
     },
     "execution_count": 196,
     "metadata": {},
     "output_type": "execute_result"
    }
   ],
   "source": [
    "probs.shape"
   ]
  },
  {
   "cell_type": "code",
   "execution_count": null,
   "id": "f6ab1b22-ce30-4f63-949f-077c0a20a437",
   "metadata": {},
   "outputs": [],
   "source": []
  },
  {
   "cell_type": "code",
   "execution_count": 200,
   "id": "d0e695b1-adab-49f2-a6b7-6e85e1efa0f5",
   "metadata": {},
   "outputs": [
    {
     "data": {
      "text/plain": [
       "tensor(0.1925, grad_fn=<NllLossBackward0>)"
      ]
     },
     "execution_count": 200,
     "metadata": {},
     "output_type": "execute_result"
    }
   ],
   "source": [
    "loss"
   ]
  },
  {
   "cell_type": "code",
   "execution_count": 202,
   "id": "d621048a-9fef-427e-8797-8b6edd51d390",
   "metadata": {},
   "outputs": [],
   "source": [
    "##### Putting it all together"
   ]
  },
  {
   "cell_type": "code",
   "execution_count": 593,
   "id": "96a9bcd5-cd7c-47a3-b8fe-109eae4e7ac1",
   "metadata": {},
   "outputs": [],
   "source": [
    "g = torch.Generator().manual_seed(2147483647)\n",
    "C = torch.randn((27,15),generator=g)\n",
    "W1 = torch.randn((45,200),generator=g)\n",
    "b1 = torch.randn(200,generator=g)\n",
    "W2 = torch.randn((200,27),generator=g)\n",
    "b2 = torch.randn(27,generator=g)\n",
    "parameters = [C,W1,b1,W2,b2]"
   ]
  },
  {
   "cell_type": "code",
   "execution_count": 595,
   "id": "7ba6b130-1ae2-4d12-8797-4e7817c0fa2f",
   "metadata": {},
   "outputs": [
    {
     "data": {
      "text/plain": [
       "15032"
      ]
     },
     "execution_count": 595,
     "metadata": {},
     "output_type": "execute_result"
    }
   ],
   "source": [
    "sum(p.nelement() for p in parameters)"
   ]
  },
  {
   "cell_type": "code",
   "execution_count": 597,
   "id": "86f15549-73e0-45ab-9f76-25d14b51d5a2",
   "metadata": {},
   "outputs": [],
   "source": [
    "for p in parameters:\n",
    "    p.requires_grad = True"
   ]
  },
  {
   "cell_type": "code",
   "execution_count": 599,
   "id": "52f75f81-a8dd-4c2c-932b-66b12558431a",
   "metadata": {},
   "outputs": [],
   "source": [
    "lri = []\n",
    "lossi = []\n",
    "stepi = []"
   ]
  },
  {
   "cell_type": "code",
   "execution_count": 601,
   "id": "9cde4502-6aab-47eb-8e82-a4c9df75733a",
   "metadata": {},
   "outputs": [],
   "source": [
    "\n",
    "for i in range(50000):\n",
    "\n",
    "    #constructing minibatch\n",
    "    ix = torch.randint(0,Xtr.shape[0],(32,))\n",
    "    emb = C[Xtr[ix]]\n",
    "    h = torch.tanh(emb.view(-1,45) @ W1 + b1)\n",
    "    logits = h @ W2 + b2\n",
    "    loss = F.cross_entropy(logits,Ytr[ix])\n",
    "    # print(loss.item())\n",
    "    #backpass\n",
    "    for p in parameters:\n",
    "        p.grad = None\n",
    "    loss.backward()\n",
    "    \n",
    "    #update\n",
    "    #tracking best lr's - we got around -0.1\n",
    "    # lr = lrs[i]\n",
    "    lr = 0.1 if i < 28000 else 0.01\n",
    "    for p in parameters:\n",
    "        p.data += -lr * p.grad\n",
    "    # lri.append(lre[i])\n",
    "    stepi.append(i)\n",
    "    lossi.append(loss.log10().item())\n",
    "\n"
   ]
  },
  {
   "cell_type": "code",
   "execution_count": 603,
   "id": "27952692-0925-46fc-a6f6-9ce41d45be26",
   "metadata": {},
   "outputs": [
    {
     "data": {
      "text/plain": [
       "[<matplotlib.lines.Line2D at 0x1e675201400>]"
      ]
     },
     "execution_count": 603,
     "metadata": {},
     "output_type": "execute_result"
    },
    {
     "data": {
      "image/png": "[encoded data removed]",
      "text/plain": [
       "<Figure size 640x480 with 1 Axes>"
      ]
     },
     "metadata": {},
     "output_type": "display_data"
    }
   ],
   "source": [
    "plt.plot(stepi,lossi)"
   ]
  },
  {
   "cell_type": "code",
   "execution_count": 605,
   "id": "8386bb3f-8d04-4d9c-99d1-ee0f744c7049",
   "metadata": {},
   "outputs": [
    {
     "data": {
      "text/plain": [
       "tensor([47845,  4202, 35207,  7177, 31721, 13811, 55608, 59205, 42748,  4590,\n",
       "        27049, 14931,  4163, 29050, 27537, 40262, 56747, 47497,  6009, 20271,\n",
       "         6299, 22561, 30918, 41371, 42919, 29426,   452, 28605, 19516, 33157,\n",
       "        52585, 23129])"
      ]
     },
     "execution_count": 605,
     "metadata": {},
     "output_type": "execute_result"
    }
   ],
   "source": [
    "torch.randint(0,X.shape[0],(32,))"
   ]
  },
  {
   "cell_type": "code",
   "execution_count": 607,
   "id": "37504314-03c4-4899-818d-d1db6801159e",
   "metadata": {},
   "outputs": [
    {
     "data": {
      "text/plain": [
       "tensor(2.1332, grad_fn=<NllLossBackward0>)"
      ]
     },
     "execution_count": 607,
     "metadata": {},
     "output_type": "execute_result"
    }
   ],
   "source": [
    "emb = C[Xdev]\n",
    "h = torch.tanh(emb.view(-1,45) @ W1 + b1)\n",
    "logits = h @ W2 + b2\n",
    "loss = F.cross_entropy(logits,Ydev)\n",
    "loss"
   ]
  },
  {
   "cell_type": "code",
   "execution_count": 609,
   "id": "752903eb-3b4d-4ab4-a56b-78eace235b18",
   "metadata": {},
   "outputs": [],
   "source": [
    "#training, validation and test validation split"
   ]
  },
  {
   "cell_type": "code",
   "execution_count": 611,
   "id": "d1802ab1-8795-425d-ad48-c4ce41b0e643",
   "metadata": {},
   "outputs": [
    {
     "data": {
      "text/plain": [
       "tensor(1.8795, grad_fn=<NllLossBackward0>)"
      ]
     },
     "execution_count": 611,
     "metadata": {},
     "output_type": "execute_result"
    }
   ],
   "source": [
    "emb = C[Xtr]\n",
    "h = torch.tanh(emb.view(-1,45) @ W1 + b1)\n",
    "logits = h @ W2 + b2\n",
    "loss = F.cross_entropy(logits,Ytr)\n",
    "loss"
   ]
  },
  {
   "cell_type": "code",
   "execution_count": 615,
   "id": "ea9054c5-200e-42b9-b0b0-c07295fb1de3",
   "metadata": {},
   "outputs": [
    {
     "name": "stdout",
     "output_type": "stream",
     "text": [
      "mritam.\n",
      "yaj.\n",
      "sheswap.\n",
      "rika.\n",
      "remhas.\n",
      "badrboj.\n",
      "sheekant.\n",
      "ing.\n",
      "mippen.\n",
      "akesh.\n",
      "supalrajayanthokesh.\n",
      "jshreer.\n",
      "shivansh.\n",
      "jair.\n",
      "jen.\n",
      "punter.\n",
      "rous.\n",
      "pradeepyinun.\n",
      "mho.\n",
      "ram.\n"
     ]
    }
   ],
   "source": [
    "#generating names !!!!!\n",
    "\n",
    "g = torch.Generator().manual_seed(2147483647+10)\n",
    "\n",
    "for _ in range(20):\n",
    "    out = []\n",
    "    context = [0] * block_size\n",
    "    while True:\n",
    "        emb = C[torch.tensor([context])]\n",
    "        h = torch.tanh(emb.view(1,-1) @ W1 + b1)\n",
    "        logits = h @ W2 + b2\n",
    "        probs = F.softmax(logits,dim=1)\n",
    "        ix = torch.multinomial(probs,num_samples=1,generator=g).item()\n",
    "        context = context[1:] + [ix]\n",
    "        out.append(ix)\n",
    "        if ix == 0:\n",
    "            break\n",
    "\n",
    "    print (''.join(itos[i] for i in out))"
   ]
  },
  {
   "cell_type": "code",
   "execution_count": null,
   "id": "8b352733-e146-4185-adfe-b36ee475f45e",
   "metadata": {},
   "outputs": [],
   "source": []
  }
 ],
 "metadata": {
  "kernelspec": {
   "display_name": "Python 3 (ipykernel)",
   "language": "python",
   "name": "python3"
  },
  "language_info": {
   "codemirror_mode": {
    "name": "ipython",
    "version": 3
   },
   "file_extension": ".py",
   "mimetype": "text/x-python",
   "name": "python",
   "nbconvert_exporter": "python",
   "pygments_lexer": "ipython3",
   "version": "3.12.4"
  }
 },
 "nbformat": 4,
 "nbformat_minor": 5
}
